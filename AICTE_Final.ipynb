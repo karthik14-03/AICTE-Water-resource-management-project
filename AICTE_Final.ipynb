{
  "nbformat": 4,
  "nbformat_minor": 0,
  "metadata": {
    "colab": {
      "provenance": [],
      "authorship_tag": "ABX9TyMrxpfreGAI5oBfmpSLC5TE",
      "include_colab_link": true
    },
    "kernelspec": {
      "name": "python3",
      "display_name": "Python 3"
    },
    "language_info": {
      "name": "python"
    }
  },
  "cells": [
    {
      "cell_type": "markdown",
      "metadata": {
        "id": "view-in-github",
        "colab_type": "text"
      },
      "source": [
        "<a href=\"https://colab.research.google.com/github/karthik14-03/AICTE-Water-resource-management-project/blob/main/AICTE_Final.ipynb\" target=\"_parent\"><img src=\"https://colab.research.google.com/assets/colab-badge.svg\" alt=\"Open In Colab\"/></a>"
      ]
    },
    {
      "cell_type": "code",
      "metadata": {
        "colab": {
          "base_uri": "https://localhost:8080/"
        },
        "id": "03a6a27b",
        "outputId": "8b315d6b-c8b9-4813-ecbf-a107e6fffa42"
      },
      "source": [
        "!pip install kaggle"
      ],
      "execution_count": null,
      "outputs": [
        {
          "output_type": "stream",
          "name": "stdout",
          "text": [
            "Requirement already satisfied: kaggle in /usr/local/lib/python3.12/dist-packages (1.7.4.5)\n",
            "Requirement already satisfied: bleach in /usr/local/lib/python3.12/dist-packages (from kaggle) (6.2.0)\n",
            "Requirement already satisfied: certifi>=14.05.14 in /usr/local/lib/python3.12/dist-packages (from kaggle) (2025.8.3)\n",
            "Requirement already satisfied: charset-normalizer in /usr/local/lib/python3.12/dist-packages (from kaggle) (3.4.3)\n",
            "Requirement already satisfied: idna in /usr/local/lib/python3.12/dist-packages (from kaggle) (3.10)\n",
            "Requirement already satisfied: protobuf in /usr/local/lib/python3.12/dist-packages (from kaggle) (5.29.5)\n",
            "Requirement already satisfied: python-dateutil>=2.5.3 in /usr/local/lib/python3.12/dist-packages (from kaggle) (2.9.0.post0)\n",
            "Requirement already satisfied: python-slugify in /usr/local/lib/python3.12/dist-packages (from kaggle) (8.0.4)\n",
            "Requirement already satisfied: requests in /usr/local/lib/python3.12/dist-packages (from kaggle) (2.32.4)\n",
            "Requirement already satisfied: setuptools>=21.0.0 in /usr/local/lib/python3.12/dist-packages (from kaggle) (75.2.0)\n",
            "Requirement already satisfied: six>=1.10 in /usr/local/lib/python3.12/dist-packages (from kaggle) (1.17.0)\n",
            "Requirement already satisfied: text-unidecode in /usr/local/lib/python3.12/dist-packages (from kaggle) (1.3)\n",
            "Requirement already satisfied: tqdm in /usr/local/lib/python3.12/dist-packages (from kaggle) (4.67.1)\n",
            "Requirement already satisfied: urllib3>=1.15.1 in /usr/local/lib/python3.12/dist-packages (from kaggle) (2.5.0)\n",
            "Requirement already satisfied: webencodings in /usr/local/lib/python3.12/dist-packages (from kaggle) (0.5.1)\n"
          ]
        }
      ]
    },
    {
      "cell_type": "markdown",
      "metadata": {
        "id": "a95b1d2e"
      },
      "source": [
        "Then, download and unzip the dataset."
      ]
    },
    {
      "cell_type": "code",
      "metadata": {
        "colab": {
          "base_uri": "https://localhost:8080/"
        },
        "id": "28069abc",
        "outputId": "eaa0f319-f0a8-4665-eeb7-53d6fa915301"
      },
      "source": [
        "import kagglehub\n",
        "\n",
        "# Download latest version\n",
        "path = kagglehub.dataset_download(\"adityakadiwal/water-potability\")\n",
        "\n",
        "print(\"Path to dataset files:\", path)"
      ],
      "execution_count": null,
      "outputs": [
        {
          "output_type": "stream",
          "name": "stdout",
          "text": [
            "Downloading from https://www.kaggle.com/api/v1/datasets/download/adityakadiwal/water-potability?dataset_version_number=3...\n"
          ]
        },
        {
          "output_type": "stream",
          "name": "stderr",
          "text": [
            "100%|██████████| 251k/251k [00:00<00:00, 58.2MB/s]"
          ]
        },
        {
          "output_type": "stream",
          "name": "stdout",
          "text": [
            "Extracting files...\n",
            "Path to dataset files: /root/.cache/kagglehub/datasets/adityakadiwal/water-potability/versions/3\n"
          ]
        },
        {
          "output_type": "stream",
          "name": "stderr",
          "text": [
            "\n"
          ]
        }
      ]
    },
    {
      "cell_type": "code",
      "source": [
        "#  Import libraries\n",
        "import pandas as pd\n",
        "import numpy as np\n",
        "from sklearn.model_selection import train_test_split\n",
        "from sklearn.preprocessing import StandardScaler\n",
        "from sklearn.impute import SimpleImputer\n",
        "\n",
        "#  Load dataset using the direct path\n",
        "dataset_path = \"/archive.zip\"\n",
        "df = pd.read_csv(dataset_path)\n",
        "\n",
        "print(\"Initial shape:\", df.shape)\n",
        "print(df.head())\n",
        "\n",
        "#  Check missing values\n",
        "print(\"\\nMissing values per column:\\n\", df.isnull().sum())\n",
        "\n",
        "#  Handle missing values (mean imputation)\n",
        "imputer = SimpleImputer(strategy=\"mean\")\n",
        "df_imputed = pd.DataFrame(imputer.fit_transform(df), columns=df.columns)\n",
        "\n",
        "#  Verify missing values are filled\n",
        "print(\"\\nAfter imputation, missing values:\\n\", df_imputed.isnull().sum())\n",
        "\n",
        "#  Split features & target\n",
        "X = df_imputed.drop(\"Potability\", axis=1)\n",
        "y = df_imputed[\"Potability\"]\n",
        "\n",
        "#  Feature scaling\n",
        "scaler = StandardScaler()\n",
        "X_scaled = scaler.fit_transform(X)\n",
        "X_scaled_df = pd.DataFrame(X_scaled, columns=X.columns)\n",
        "\n",
        "#  Train-test split\n",
        "X_train, X_test, y_train, y_test = train_test_split(\n",
        "    X_scaled_df, y, test_size=0.2, random_state=42, stratify=y\n",
        ")\n",
        "\n",
        "print(\"\\nFinal shapes:\")\n",
        "print(\"X_train:\", X_train.shape)\n",
        "print(\"X_test :\", X_test.shape)\n",
        "print(\"y_train:\", y_train.shape)\n",
        "print(\"y_test :\", y_test.shape)\n"
      ],
      "metadata": {
        "colab": {
          "base_uri": "https://localhost:8080/"
        },
        "id": "l2CqUOlRaxeb",
        "outputId": "0f6fbfea-d406-41a7-f2dc-55c0f0c4494d"
      },
      "execution_count": null,
      "outputs": [
        {
          "output_type": "stream",
          "name": "stdout",
          "text": [
            "Initial shape: (3276, 10)\n",
            "         ph    Hardness        Solids  Chloramines     Sulfate  Conductivity  \\\n",
            "0       NaN  204.890455  20791.318981     7.300212  368.516441    564.308654   \n",
            "1  3.716080  129.422921  18630.057858     6.635246         NaN    592.885359   \n",
            "2  8.099124  224.236259  19909.541732     9.275884         NaN    418.606213   \n",
            "3  8.316766  214.373394  22018.417441     8.059332  356.886136    363.266516   \n",
            "4  9.092223  181.101509  17978.986339     6.546600  310.135738    398.410813   \n",
            "\n",
            "   Organic_carbon  Trihalomethanes  Turbidity  Potability  \n",
            "0       10.379783        86.990970   2.963135           0  \n",
            "1       15.180013        56.329076   4.500656           0  \n",
            "2       16.868637        66.420093   3.055934           0  \n",
            "3       18.436524       100.341674   4.628771           0  \n",
            "4       11.558279        31.997993   4.075075           0  \n",
            "\n",
            "Missing values per column:\n",
            " ph                 491\n",
            "Hardness             0\n",
            "Solids               0\n",
            "Chloramines          0\n",
            "Sulfate            781\n",
            "Conductivity         0\n",
            "Organic_carbon       0\n",
            "Trihalomethanes    162\n",
            "Turbidity            0\n",
            "Potability           0\n",
            "dtype: int64\n",
            "\n",
            "After imputation, missing values:\n",
            " ph                 0\n",
            "Hardness           0\n",
            "Solids             0\n",
            "Chloramines        0\n",
            "Sulfate            0\n",
            "Conductivity       0\n",
            "Organic_carbon     0\n",
            "Trihalomethanes    0\n",
            "Turbidity          0\n",
            "Potability         0\n",
            "dtype: int64\n",
            "\n",
            "Final shapes:\n",
            "X_train: (2620, 9)\n",
            "X_test : (656, 9)\n",
            "y_train: (2620,)\n",
            "y_test : (656,)\n"
          ]
        }
      ]
    },
    {
      "cell_type": "code",
      "source": [
        "# Step 1: Import libraries\n",
        "import pandas as pd\n",
        "import numpy as np\n",
        "import matplotlib.pyplot as plt\n",
        "import seaborn as sns\n",
        "\n",
        "from sklearn.model_selection import train_test_split\n",
        "from sklearn.preprocessing import StandardScaler\n",
        "from sklearn.impute import SimpleImputer\n",
        "from sklearn.linear_model import LogisticRegression\n",
        "from sklearn.ensemble import RandomForestClassifier\n",
        "from sklearn.metrics import (\n",
        "    accuracy_score, precision_score, recall_score,\n",
        "    f1_score, confusion_matrix, classification_report\n",
        ")\n",
        "\n",
        "# Step 2: Load dataset using Kaggle direct path\n",
        "dataset_path = \"/archive.zip\"\n",
        "df = pd.read_csv(dataset_path)\n",
        "\n",
        "print(\"Initial shape:\", df.shape)\n",
        "print(df.head())\n",
        "\n",
        "# Step 3: Check missing values\n",
        "print(\"\\nMissing values per column:\\n\", df.isnull().sum())\n",
        "\n",
        "# Step 4: Handle missing values (mean imputation)\n",
        "imputer = SimpleImputer(strategy=\"mean\")\n",
        "df_imputed = pd.DataFrame(imputer.fit_transform(df), columns=df.columns)\n",
        "\n",
        "# Step 5: Verify missing values are filled\n",
        "print(\"\\nAfter imputation, missing values:\\n\", df_imputed.isnull().sum())\n",
        "\n",
        "# Step 6: Split features & target\n",
        "X = df_imputed.drop(\"Potability\", axis=1)\n",
        "y = df_imputed[\"Potability\"]\n",
        "\n",
        "# Step 7: Feature scaling\n",
        "scaler = StandardScaler()\n",
        "X_scaled = scaler.fit_transform(X)\n",
        "X_scaled_df = pd.DataFrame(X_scaled, columns=X.columns)\n",
        "\n",
        "# Step 8: Train-test split\n",
        "X_train, X_test, y_train, y_test = train_test_split(\n",
        "    X_scaled_df, y, test_size=0.2, random_state=42, stratify=y\n",
        ")\n",
        "\n",
        "print(\"\\nFinal shapes:\")\n",
        "print(\"X_train:\", X_train.shape)\n",
        "print(\"X_test :\", X_test.shape)\n",
        "print(\"y_train:\", y_train.shape)\n",
        "print(\"y_test :\", y_test.shape)\n",
        "\n",
        "# Step 9: Initialize models\n",
        "log_reg = LogisticRegression(max_iter=1000, random_state=42)\n",
        "rf_clf = RandomForestClassifier(n_estimators=100, random_state=42)\n",
        "\n",
        "# Step 10: Train models\n",
        "log_reg.fit(X_train, y_train)\n",
        "rf_clf.fit(X_train, y_train)\n",
        "\n",
        "# Step 11: Predictions\n",
        "y_pred_log = log_reg.predict(X_test)\n",
        "y_pred_rf = rf_clf.predict(X_test)\n",
        "\n",
        "# Step 12: Evaluation function\n",
        "def evaluate_model(y_true, y_pred, model_name):\n",
        "    print(f\"\\n--- {model_name} Evaluation ---\")\n",
        "    print(\"Accuracy :\", accuracy_score(y_true, y_pred))\n",
        "    print(\"Precision:\", precision_score(y_true, y_pred))\n",
        "    print(\"Recall   :\", recall_score(y_true, y_pred))\n",
        "    print(\"F1-score :\", f1_score(y_true, y_pred))\n",
        "    print(\"\\nConfusion Matrix:\\n\", confusion_matrix(y_true, y_pred))\n",
        "    print(\"\\nClassification Report:\\n\", classification_report(y_true, y_pred))\n",
        "\n",
        "# Step 13: Evaluate both models\n",
        "evaluate_model(y_test, y_pred_log, \"Logistic Regression\")\n",
        "evaluate_model(y_test, y_pred_rf, \"Random Forest\")\n",
        "\n",
        "# Step 14: Confusion Matrix Heatmap (Random Forest)\n",
        "cm = confusion_matrix(y_test, y_pred_rf)\n",
        "plt.figure(figsize=(6,4))\n",
        "sns.heatmap(cm, annot=True, fmt='d', cmap=\"Blues\", xticklabels=[\"Not Potable\",\"Potable\"], yticklabels=[\"Not Potable\",\"Potable\"])\n",
        "plt.title(\"Confusion Matrix - Random Forest\")\n",
        "plt.xlabel(\"Predicted\")\n",
        "plt.ylabel(\"Actual\")\n",
        "plt.show()\n",
        "\n",
        "# Step 15: Feature Importance (Random Forest)\n",
        "importances = rf_clf.feature_importances_\n",
        "feature_names = X.columns\n",
        "\n",
        "plt.figure(figsize=(10,5))\n",
        "sns.barplot(x=importances, y=feature_names, palette=\"viridis\")\n",
        "plt.title(\"Feature Importance - Random Forest\")\n",
        "plt.xlabel(\"Importance Score\")\n",
        "plt.ylabel(\"Feature\")\n",
        "plt.show()\n"
      ],
      "metadata": {
        "colab": {
          "base_uri": "https://localhost:8080/"
        },
        "id": "Av2kdGEU3j0J",
        "outputId": "a8e29003-4774-4792-8b0b-58c403ed5958"
      },
      "execution_count": null,
      "outputs": [
        {
          "output_type": "stream",
          "name": "stdout",
          "text": [
            "Initial shape: (3276, 10)\n",
            "         ph    Hardness        Solids  Chloramines     Sulfate  Conductivity  \\\n",
            "0       NaN  204.890455  20791.318981     7.300212  368.516441    564.308654   \n",
            "1  3.716080  129.422921  18630.057858     6.635246         NaN    592.885359   \n",
            "2  8.099124  224.236259  19909.541732     9.275884         NaN    418.606213   \n",
            "3  8.316766  214.373394  22018.417441     8.059332  356.886136    363.266516   \n",
            "4  9.092223  181.101509  17978.986339     6.546600  310.135738    398.410813   \n",
            "\n",
            "   Organic_carbon  Trihalomethanes  Turbidity  Potability  \n",
            "0       10.379783        86.990970   2.963135           0  \n",
            "1       15.180013        56.329076   4.500656           0  \n",
            "2       16.868637        66.420093   3.055934           0  \n",
            "3       18.436524       100.341674   4.628771           0  \n",
            "4       11.558279        31.997993   4.075075           0  \n",
            "\n",
            "Missing values per column:\n",
            " ph                 491\n",
            "Hardness             0\n",
            "Solids               0\n",
            "Chloramines          0\n",
            "Sulfate            781\n",
            "Conductivity         0\n",
            "Organic_carbon       0\n",
            "Trihalomethanes    162\n",
            "Turbidity            0\n",
            "Potability           0\n",
            "dtype: int64\n",
            "\n",
            "After imputation, missing values:\n",
            " ph                 0\n",
            "Hardness           0\n",
            "Solids             0\n",
            "Chloramines        0\n",
            "Sulfate            0\n",
            "Conductivity       0\n",
            "Organic_carbon     0\n",
            "Trihalomethanes    0\n",
            "Turbidity          0\n",
            "Potability         0\n",
            "dtype: int64\n",
            "\n",
            "Final shapes:\n",
            "X_train: (2620, 9)\n",
            "X_test : (656, 9)\n",
            "y_train: (2620,)\n",
            "y_test : (656,)\n"
          ]
        }
      ]
    }
  ]
}