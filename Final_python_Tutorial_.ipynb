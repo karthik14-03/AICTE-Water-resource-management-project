{
  "nbformat": 4,
  "nbformat_minor": 0,
  "metadata": {
    "colab": {
      "provenance": [],
      "authorship_tag": "ABX9TyM8Oupf2fSaekBfA6ie/7y9",
      "include_colab_link": true
    },
    "kernelspec": {
      "name": "python3",
      "display_name": "Python 3"
    },
    "language_info": {
      "name": "python"
    }
  },
  "cells": [
    {
      "cell_type": "markdown",
      "metadata": {
        "id": "view-in-github",
        "colab_type": "text"
      },
      "source": [
        "<a href=\"https://colab.research.google.com/github/karthik14-03/AICTE-Water-resource-management-project/blob/main/Final_python_Tutorial_.ipynb\" target=\"_parent\"><img src=\"https://colab.research.google.com/assets/colab-badge.svg\" alt=\"Open In Colab\"/></a>"
      ]
    },
    {
      "cell_type": "markdown",
      "source": [
        "# **Newlines** and Raw Strings"
      ],
      "metadata": {
        "id": "u_r29s9X0BMS"
      }
    },
    {
      "cell_type": "code",
      "source": [
        "s = 'First line.\\nSecond line.'\n",
        "print(s)              # Output: First line.\\nSecond line.\n",
        "print(s)              # Output: First line.\n",
        "                      #         Second line.\n",
        "\n",
        "print('C:\\some\\name') # Output: C:\\some (interprets \\n as newline)\n",
        "print(r'C:\\some\\name')  # Output: C:\\some\\name (raw string)"
      ],
      "metadata": {
        "colab": {
          "base_uri": "https://localhost:8080/"
        },
        "id": "iDve2GMzz_9k",
        "outputId": "31cedf19-ab2e-430b-f233-889da97e729c"
      },
      "execution_count": null,
      "outputs": [
        {
          "output_type": "stream",
          "name": "stdout",
          "text": [
            "First line.\n",
            "Second line.\n",
            "First line.\n",
            "Second line.\n",
            "C:\\some\n",
            "ame\n",
            "C:\\some\\name\n"
          ]
        },
        {
          "output_type": "stream",
          "name": "stderr",
          "text": [
            "<>:6: SyntaxWarning: invalid escape sequence '\\s'\n",
            "<>:6: SyntaxWarning: invalid escape sequence '\\s'\n",
            "/tmp/ipython-input-1352772749.py:6: SyntaxWarning: invalid escape sequence '\\s'\n",
            "  print('C:\\some\\name') # Output: C:\\some (interprets \\n as newline)\n"
          ]
        }
      ]
    },
    {
      "cell_type": "markdown",
      "source": [],
      "metadata": {
        "id": "ffOkrG971myL"
      }
    },
    {
      "cell_type": "markdown",
      "source": [
        "# Multi-line Strings"
      ],
      "metadata": {
        "id": "GcisbgtW1qmj"
      }
    },
    {
      "cell_type": "code",
      "source": [
        "print(\"\"\"\\\n",
        "Usage: thingy [OPTIONS]\n",
        "     -h                        Display this usage message\n",
        "     -H hostname               Hostname to connect to\n",
        "\"\"\")\n",
        "# Output:\n",
        "# Usage: thingy [OPTIONS]\n",
        "#      -h                        Display this usage message\n",
        "#      -H hostname               Hostname to connect to"
      ],
      "metadata": {
        "colab": {
          "base_uri": "https://localhost:8080/"
        },
        "id": "CXhckNt41wZz",
        "outputId": "6457bf1e-c1cc-46fd-a9e4-16c4d0ad61f1"
      },
      "execution_count": null,
      "outputs": [
        {
          "output_type": "stream",
          "name": "stdout",
          "text": [
            "Usage: thingy [OPTIONS]\n",
            "     -h                        Display this usage message\n",
            "     -H hostname               Hostname to connect to\n",
            "\n"
          ]
        }
      ]
    },
    {
      "cell_type": "markdown",
      "source": [
        "# String Concatenation and Repetition\n",
        "\n"
      ],
      "metadata": {
        "id": "6BZKroJN1zT2"
      }
    },
    {
      "cell_type": "code",
      "source": [
        "print(3 * 'un' + 'ium')  # Output: unununium\n",
        "print('Py' 'thon')       # Output: Python (literal concatenation)\n",
        "\n",
        "text = ('Put several strings within parentheses '\n",
        "        'to have them joined together.')\n",
        "print(text)              # Output: Put several strings within parentheses to have them joined together.\n",
        "\n",
        "prefix = 'Py'\n",
        "print(prefix + 'thon')   # Output: Python (variable concatenation)"
      ],
      "metadata": {
        "colab": {
          "base_uri": "https://localhost:8080/"
        },
        "id": "7Vgc-e9j15R7",
        "outputId": "8aac073a-f772-4b16-e102-f64ce069c49a"
      },
      "execution_count": null,
      "outputs": [
        {
          "output_type": "stream",
          "name": "stdout",
          "text": [
            "unununium\n",
            "Python\n",
            "Put several strings within parentheses to have them joined together.\n",
            "Python\n"
          ]
        }
      ]
    },
    {
      "cell_type": "markdown",
      "source": [
        "# String Indexing and Slicing"
      ],
      "metadata": {
        "id": "7mvAGCp42Qk3"
      }
    },
    {
      "cell_type": "code",
      "source": [
        "word = 'Python'\n",
        "print(word[0])        # Output: P\n",
        "print(word[5])        # Output: n\n",
        "print(word[-1])       # Output: n (last character)\n",
        "print(word[-2])       # Output: o (second-last character)\n",
        "print(word[0:2])      # Output: Py\n",
        "print(word[2:5])      # Output: tho\n",
        "print(word[:2])       # Output: Py\n",
        "print(word[4:])       # Output: on\n",
        "print(word[-2:])      # Output: on\n",
        "print(word[:2] + word[2:])  # Output: Python"
      ],
      "metadata": {
        "colab": {
          "base_uri": "https://localhost:8080/"
        },
        "id": "lASwJm_M2Xez",
        "outputId": "6dd672e8-467d-4859-c859-9c2b4c0d28fd"
      },
      "execution_count": null,
      "outputs": [
        {
          "output_type": "stream",
          "name": "stdout",
          "text": [
            "P\n",
            "n\n",
            "n\n",
            "o\n",
            "Py\n",
            "tho\n",
            "Py\n",
            "on\n",
            "on\n",
            "Python\n"
          ]
        }
      ]
    },
    {
      "cell_type": "markdown",
      "source": [
        "\n",
        "\n",
        "\n",
        "# String Immutability and Length"
      ],
      "metadata": {
        "id": "c3NAY1kv2aG7"
      }
    },
    {
      "cell_type": "code",
      "source": [
        "# Strings are immutable\n",
        "word = 'Python'\n",
        "try:\n",
        "    word[0] = 'J'\n",
        "except TypeError as e:\n",
        "    print(e)          # Output: 'str' object does not support item assignment\n",
        "\n",
        "# Create a new string instead\n",
        "print('J' + word[1:])  # Output: Jython\n",
        "\n",
        "# Length of a string\n",
        "s = 'supercalifragilisticexpialidocious'\n",
        "print(len(s))         # Output: 34"
      ],
      "metadata": {
        "colab": {
          "base_uri": "https://localhost:8080/"
        },
        "id": "fcjNcBJx2fUj",
        "outputId": "97cc1f44-72e3-4aa8-c175-a6975838f5f8"
      },
      "execution_count": null,
      "outputs": [
        {
          "output_type": "stream",
          "name": "stdout",
          "text": [
            "'str' object does not support item assignment\n",
            "Jython\n",
            "34\n"
          ]
        }
      ]
    },
    {
      "cell_type": "markdown",
      "source": [
        "# 4. Lists\n",
        "Lists are mutable sequences that can hold items of different types, enclosed in square brackets [].\n",
        "\n",
        "1.   Basic List Operations\n",
        "2.   Modifying Lists\n",
        "3.   List References and Copies\n",
        "4.   Slice Assignment\n",
        "5.   List Length and Nesting"
      ],
      "metadata": {
        "id": "KAUTkrTr25Ed"
      }
    },
    {
      "cell_type": "code",
      "source": [
        "# 1\n",
        "squares = [1, 4, 9, 16, 25]\n",
        "print(squares)        # Output: [1, 4, 9, 16, 25]\n",
        "print(squares[0])     # Output: 1\n",
        "print(squares[-1])    # Output: 25\n",
        "print(squares[-3:])   # Output: [9, 16, 25]\n",
        "print(squares + [36, 49, 64, 81, 100])  # Output: [1, 4, 9, 16, 25, 36, 49, 64, 81, 100]\n",
        "print(\"\\n\")\n",
        "\n",
        "# 2\n",
        "cubes = [1, 8, 27, 65, 125]\n",
        "print(4 ** 3)         # Output: 64 (correct cube of 4)\n",
        "cubes[3] = 64        # Fix the wrong value\n",
        "pręint(cubes)          # Output: [1, 8, 27, 64, 125]\n",
        "\n",
        "cubes.append(216)     # Add cube of 6\n",
        "cubes.append(7 ** 3)  # Add cube of 7\n",
        "print(cubes)          # Output: [1, 8, 27, 64, 125, 216, 343]v\n",
        "\n",
        "print(\"\\n\")\n",
        "\n",
        "# 3\n",
        "rgb = [\"Red\", \"Green\", \"Blue\"]\n",
        "rgba = rgb\n",
        "print(id(rgb) == id(rgba))  # Output: True (same object)\n",
        "rgba.append(\"Alph\")\n",
        "print(rgb)            # Output: [\"Red\", \"Green\", \"Blue\", \"Alph\"]\n",
        "\n",
        "correct_rgba = rgba[:]  # Create a shallow copy\n",
        "correct_rgba[-1] = \"Alpha\"\n",
        "print(correct_rgba)   # Output: [\"Red\", \"Green\", \"Blue\", \"Alpha\"]\n",
        "print(rgba)           # Output: [\"Red\", \"Green\", \"Blue\", \"Alph\"]\n",
        "\n",
        "print(\"\\n\")\n",
        "\n",
        "# 4\n",
        "letters = ['a', 'b', 'c', 'd', 'e', 'f', 'g']\n",
        "letters[2:5] = ['C', 'D', 'E']\n",
        "print(letters)        # Output: ['a', 'b', 'C', 'D', 'E', 'f', 'g']\n",
        "letters[2:5] = []\n",
        "print(letters)        # Output: ['a', 'b', 'f', 'g']\n",
        "letters[:] = []\n",
        "print(letters)        # Output: []\n",
        "print(\"\\n\")\n",
        "\n",
        "# 5\n",
        "letters = ['a', 'b', 'c', 'd']\n",
        "print(len(letters))   # Output: 4\n",
        "\n",
        "a = ['a', 'b', 'c']\n",
        "n = [1, 2, 3]\n",
        "x = [a, n]\n",
        "print(x)              # Output: [['a', 'b', 'c'], [1, 2, 3]]\n",
        "print(x[0])           # Output: ['a', 'b', 'c']\n",
        "print(x[0][1])        # Output: b"
      ],
      "metadata": {
        "colab": {
          "base_uri": "https://localhost:8080/"
        },
        "id": "Ckw6IzZl3aCF",
        "outputId": "90acab2e-c138-4228-d519-7248e95de8d6"
      },
      "execution_count": null,
      "outputs": [
        {
          "output_type": "stream",
          "name": "stdout",
          "text": [
            "[1, 4, 9, 16, 25]\n",
            "1\n",
            "25\n",
            "[9, 16, 25]\n",
            "[1, 4, 9, 16, 25, 36, 49, 64, 81, 100]\n",
            "\n",
            "\n",
            "64\n",
            "[1, 8, 27, 64, 125]\n",
            "[1, 8, 27, 64, 125, 216, 343]\n",
            "\n",
            "\n",
            "True\n",
            "['Red', 'Green', 'Blue', 'Alph']\n",
            "['Red', 'Green', 'Blue', 'Alpha']\n",
            "['Red', 'Green', 'Blue', 'Alph']\n",
            "\n",
            "\n",
            "['a', 'b', 'C', 'D', 'E', 'f', 'g']\n",
            "['a', 'b', 'f', 'g']\n",
            "[]\n",
            "\n",
            "\n",
            "4\n",
            "[['a', 'b', 'c'], [1, 2, 3]]\n",
            "['a', 'b', 'c']\n",
            "b\n"
          ]
        }
      ]
    },
    {
      "cell_type": "markdown",
      "source": [
        "# Fibonacci Series"
      ],
      "metadata": {
        "id": "-RUbsR_w4buQ"
      }
    },
    {
      "cell_type": "code",
      "source": [
        "a, b = 0, 1\n",
        "while a < 1000:\n",
        "    print(a, end=',')\n",
        "    a, b = b, a + b\n",
        "# Output: 0,1,1,2,3,5,8,13,21,34,55,89,144,233,377,610,987,"
      ],
      "metadata": {
        "colab": {
          "base_uri": "https://localhost:8080/"
        },
        "id": "1Sn8PwPq3qoN",
        "outputId": "9228e05c-bf63-47e7-e9a5-81b71ae089e3"
      },
      "execution_count": null,
      "outputs": [
        {
          "output_type": "stream",
          "name": "stdout",
          "text": [
            "0,1,1,2,3,5,8,13,21,34,55,89,144,233,377,610,987,"
          ]
        }
      ]
    },
    {
      "cell_type": "markdown",
      "source": [
        "# if Statements"
      ],
      "metadata": {
        "id": "UfwzjKtJ5PX0"
      }
    },
    {
      "cell_type": "code",
      "source": [
        "number = int(input(\"Enter a number: \"))\n",
        "if number > 0:\n",
        "    print(\"Positive\")\n",
        "elif number == 0:\n",
        "    print(\"Zero\")\n",
        "else:\n",
        "    print(\"Negative\")"
      ],
      "metadata": {
        "colab": {
          "base_uri": "https://localhost:8080/"
        },
        "id": "GIo9JtOD5S10",
        "outputId": "c0fae1ed-c95e-4b8b-9faf-5fe29cd4b594"
      },
      "execution_count": null,
      "outputs": [
        {
          "output_type": "stream",
          "name": "stdout",
          "text": [
            "Enter a number: 5\n",
            "Positive\n"
          ]
        }
      ]
    },
    {
      "cell_type": "markdown",
      "source": [
        "# if Statements"
      ],
      "metadata": {
        "id": "hI-Y39_-5W-u"
      }
    },
    {
      "cell_type": "code",
      "source": [
        "num = 10\n",
        "if num > 0:\n",
        "    if num % 2 == 0:\n",
        "        print(f\"{num} is positive and even\")\n",
        "    else:\n",
        "        print(f\"{num} is positive but odd\")\n",
        "else:\n",
        "    print(f\"{num} is not positive\")"
      ],
      "metadata": {
        "colab": {
          "base_uri": "https://localhost:8080/"
        },
        "id": "7nbtPe8_5dsX",
        "outputId": "c655ddb6-5cb9-412b-a5cc-2449b6d5421e"
      },
      "execution_count": null,
      "outputs": [
        {
          "output_type": "stream",
          "name": "stdout",
          "text": [
            "10 is positive and even\n"
          ]
        }
      ]
    },
    {
      "cell_type": "markdown",
      "source": [
        "# Multiple Conditions with Logical Operators"
      ],
      "metadata": {
        "id": "cp5a1goL5i-2"
      }
    },
    {
      "cell_type": "code",
      "source": [
        "age = 65\n",
        "is_member = True\n",
        "if age >= 60 and is_member:\n",
        "    print(\"Eligible for senior member discount\")\n",
        "else:\n",
        "    print(\"Not eligible for discount\")"
      ],
      "metadata": {
        "colab": {
          "base_uri": "https://localhost:8080/"
        },
        "id": "snH54DuW5nGm",
        "outputId": "c696139e-7460-4350-a873-f9c2354d77b2"
      },
      "execution_count": null,
      "outputs": [
        {
          "output_type": "stream",
          "name": "stdout",
          "text": [
            "Eligible for senior member discount\n"
          ]
        }
      ]
    },
    {
      "cell_type": "markdown",
      "source": [
        "# Iterating Over a List: Prints each item in a grocery list with its index."
      ],
      "metadata": {
        "id": "UW690Frh5vn2"
      }
    },
    {
      "cell_type": "code",
      "source": [
        "groceries = [\"apples\", \"bananas\", \"oranges\"]\n",
        "for i in range(0, len(groceries)):\n",
        "    print(f\"Item {i}: {groceries[i]}\")"
      ],
      "metadata": {
        "colab": {
          "base_uri": "https://localhost:8080/"
        },
        "id": "JqcveE4y5znu",
        "outputId": "614fd611-d47d-40e8-e063-5cc8d11dbf2c"
      },
      "execution_count": null,
      "outputs": [
        {
          "output_type": "stream",
          "name": "stdout",
          "text": [
            "Item 0: apples\n",
            "Item 1: bananas\n",
            "Item 2: oranges\n"
          ]
        }
      ]
    },
    {
      "cell_type": "markdown",
      "source": [
        "# Iterating Over a String: Counts vowels in a word."
      ],
      "metadata": {
        "id": "NnqbVxKI8J8w"
      }
    },
    {
      "cell_type": "code",
      "source": [
        "word = \"hello\"\n",
        "vowels = \"aeiou\"\n",
        "count = 0\n",
        "for char in word:\n",
        "    if char in vowels:\n",
        "        count += 1\n",
        "print(f\"Number of vowels in '{word}': {count}\")"
      ],
      "metadata": {
        "colab": {
          "base_uri": "https://localhost:8080/"
        },
        "id": "RyASYAOd8NSv",
        "outputId": "23c47549-6a59-4512-da1c-b6d38db8b0cc"
      },
      "execution_count": null,
      "outputs": [
        {
          "output_type": "stream",
          "name": "stdout",
          "text": [
            "Number of vowels in 'hello': 2\n"
          ]
        }
      ]
    },
    {
      "cell_type": "markdown",
      "source": [
        "# Modifying a Collection (Using a Copy): Filters out inactive users from a dictionary."
      ],
      "metadata": {
        "id": "BVkK55A28zRw"
      }
    },
    {
      "cell_type": "code",
      "source": [
        "users = {\"Alice\": \"active\", \"Bob\": \"inactive\", \"Charlie\": \"active\"}\n",
        "for user, status in users.copy().items():\n",
        "    if status == \"inactive\":\n",
        "        del users[user]\n",
        "print(\"Active users:\", users)"
      ],
      "metadata": {
        "colab": {
          "base_uri": "https://localhost:8080/"
        },
        "id": "qEiLfXzO80uQ",
        "outputId": "acf6741b-79f4-4f2b-8983-f66543c602c7"
      },
      "execution_count": null,
      "outputs": [
        {
          "output_type": "stream",
          "name": "stdout",
          "text": [
            "Active users: {'Alice': 'active', 'Charlie': 'active'}\n"
          ]
        }
      ]
    },
    {
      "cell_type": "markdown",
      "source": [
        "# Range with Step: Lists even numbers from 10 to 20"
      ],
      "metadata": {
        "id": "aIcdZE9P-hkI"
      }
    },
    {
      "cell_type": "code",
      "source": [
        "even_numbers = list(range(10, 21, 2))\n",
        "print(\"Even numbers:\", even_numbers)"
      ],
      "metadata": {
        "colab": {
          "base_uri": "https://localhost:8080/"
        },
        "id": "2YacJpj3-brZ",
        "outputId": "edb1a6b1-fdf1-4160-f1eb-37cc0c498a35"
      },
      "execution_count": null,
      "outputs": [
        {
          "output_type": "stream",
          "name": "stdout",
          "text": [
            "Even numbers: [10, 12, 14, 16, 18, 20]\n"
          ]
        }
      ]
    },
    {
      "cell_type": "markdown",
      "source": [
        "# Reverse Range: Counts down from 10 to 1"
      ],
      "metadata": {
        "id": "4Zr5J9CQ-kSP"
      }
    },
    {
      "cell_type": "code",
      "source": [
        "for i in range(10, 0, -1):\n",
        "    print(i)\n",
        "print(\"Blast off!\")"
      ],
      "metadata": {
        "colab": {
          "base_uri": "https://localhost:8080/"
        },
        "id": "zDiIj9kq-pzT",
        "outputId": "810a7704-1564-45a2-a825-02ae1381ca78"
      },
      "execution_count": null,
      "outputs": [
        {
          "output_type": "stream",
          "name": "stdout",
          "text": [
            "10\n",
            "9\n",
            "8\n",
            "7\n",
            "6\n",
            "5\n",
            "4\n",
            "3\n",
            "2\n",
            "1\n",
            "Blast off!\n"
          ]
        }
      ]
    },
    {
      "cell_type": "markdown",
      "source": [
        "# Using break to Stop a Search: Finds the first number divisible by 7 in a range"
      ],
      "metadata": {
        "id": "VP6KK02b_BHZ"
      }
    },
    {
      "cell_type": "code",
      "source": [
        "for num in range(1, 100):\n",
        "    if num % 7 == 0:\n",
        "        print(f\"First number divisible by 7: {num}\")\n",
        "        break"
      ],
      "metadata": {
        "colab": {
          "base_uri": "https://localhost:8080/"
        },
        "id": "5Fv342xL_CcB",
        "outputId": "882a4a6c-ed3b-4905-8957-27a05276a3e8"
      },
      "execution_count": null,
      "outputs": [
        {
          "output_type": "stream",
          "name": "stdout",
          "text": [
            "First number divisible by 7: 7\n"
          ]
        }
      ]
    },
    {
      "cell_type": "markdown",
      "source": [
        "# Using continue to Skip Items: Prints only odd numbers from 1 to 10"
      ],
      "metadata": {
        "id": "ma6okS1E_GUD"
      }
    },
    {
      "cell_type": "code",
      "source": [
        "for num in range(1, 11):\n",
        "    if num % 2 == 0:\n",
        "        continue\n",
        "    print(f\"Odd number: {num}\")"
      ],
      "metadata": {
        "colab": {
          "base_uri": "https://localhost:8080/"
        },
        "id": "CFjG-Qkz_J0x",
        "outputId": "5ea777cd-40af-48c6-c8eb-8601aee66753"
      },
      "execution_count": null,
      "outputs": [
        {
          "output_type": "stream",
          "name": "stdout",
          "text": [
            "Odd number: 1\n",
            "Odd number: 3\n",
            "Odd number: 5\n",
            "Odd number: 7\n",
            "Odd number: 9\n"
          ]
        }
      ]
    },
    {
      "cell_type": "markdown",
      "source": [
        "# Combining break and continue: Processes numbers, skipping multiples of 3 and stopping at a multiple of 5."
      ],
      "metadata": {
        "id": "Dh66RjIK_P9J"
      }
    },
    {
      "cell_type": "code",
      "source": [
        "for num in range(1, 20):\n",
        "    if num % 3 == 0:\n",
        "        continue\n",
        "    if num % 5 == 0:\n",
        "        print(f\"Stopped at {num}, multiple of 5\")\n",
        "        break\n",
        "    print(num)"
      ],
      "metadata": {
        "colab": {
          "base_uri": "https://localhost:8080/"
        },
        "id": "_qA-nveW_QsB",
        "outputId": "f7c78a6c-9e7c-408f-fa9f-efab7d089924"
      },
      "execution_count": null,
      "outputs": [
        {
          "output_type": "stream",
          "name": "stdout",
          "text": [
            "1\n",
            "2\n",
            "4\n",
            "Stopped at 5, multiple of 5\n"
          ]
        }
      ]
    },
    {
      "cell_type": "markdown",
      "source": [
        "# Prime Number Check with for Loop: Determines if a number is prime."
      ],
      "metadata": {
        "id": "l6TpCW1s_xU7"
      }
    },
    {
      "cell_type": "code",
      "source": [
        "num = 17\n",
        "for i in range(2, num):\n",
        "    if num % i == 0:\n",
        "        print(f\"{num} is not prime, divisible by {i}\")\n",
        "        break\n",
        "else:\n",
        "    print(f\"{num} is a prime number\")"
      ],
      "metadata": {
        "colab": {
          "base_uri": "https://localhost:8080/"
        },
        "id": "cpGUayrg_yT5",
        "outputId": "3737a9e6-ad4b-480a-9099-81de9f1e25c3"
      },
      "execution_count": null,
      "outputs": [
        {
          "output_type": "stream",
          "name": "stdout",
          "text": [
            "17 is a prime number\n"
          ]
        }
      ]
    },
    {
      "cell_type": "markdown",
      "source": [
        "# Searching a List with for Loop: Checks if a list contains a negative number"
      ],
      "metadata": {
        "id": "oAkWufrDA1ra"
      }
    },
    {
      "cell_type": "code",
      "source": [
        "numbers = [1, 2, 3, 4, 5]\n",
        "for num in numbers:\n",
        "    if num < 0:\n",
        "        print(\"Found a negative number\")\n",
        "        break\n",
        "else:\n",
        "    print(\"No negative numbers found\")"
      ],
      "metadata": {
        "colab": {
          "base_uri": "https://localhost:8080/"
        },
        "id": "o3yCphgzA27S",
        "outputId": "2d4ed50c-29f9-4af2-9f63-c51e521d683b"
      },
      "execution_count": null,
      "outputs": [
        {
          "output_type": "stream",
          "name": "stdout",
          "text": [
            "No negative numbers found\n"
          ]
        }
      ]
    },
    {
      "cell_type": "markdown",
      "source": [
        "# Using else with while Loop: Attempts to guess a secret number with limited tries."
      ],
      "metadata": {
        "id": "dPz9m4MRBBFC"
      }
    },
    {
      "cell_type": "code",
      "source": [
        "secret = 7\n",
        "tries = 3\n",
        "while tries > 0:\n",
        "    guess = int(input(\"Guess the number: \"))\n",
        "    if guess == secret:\n",
        "        print(\"Correct!\")\n",
        "        break\n",
        "    tries -= 1\n",
        "    print(f\"{tries}: tries left\")\n",
        "else:\n",
        "    print(\"Out of tries! The number was\", secret)"
      ],
      "metadata": {
        "colab": {
          "base_uri": "https://localhost:8080/"
        },
        "id": "hQ0171BQBCay",
        "outputId": "5d7033fe-5152-468c-c20f-a896bdd5c89a"
      },
      "execution_count": null,
      "outputs": [
        {
          "output_type": "stream",
          "name": "stdout",
          "text": [
            "Guess the number: 2\n",
            "2: tries left\n",
            "Guess the number: 4\n",
            "1: tries left\n",
            "Guess the number: 7\n",
            "Correct!\n"
          ]
        }
      ]
    },
    {
      "cell_type": "code",
      "source": [
        "for num in range(1, 10):\n",
        "    if num % 2 == 0:\n",
        "        pass  # TODO: Implement even number processing\n",
        "    else:\n",
        "        print(f\"Odd number: {num}\")"
      ],
      "metadata": {
        "colab": {
          "base_uri": "https://localhost:8080/"
        },
        "id": "A7sQ039sCdEp",
        "outputId": "4701433d-6d85-4170-c34d-099adb83c544"
      },
      "execution_count": null,
      "outputs": [
        {
          "output_type": "stream",
          "name": "stdout",
          "text": [
            "Odd number: 1\n",
            "Odd number: 3\n",
            "Odd number: 5\n",
            "Odd number: 7\n",
            "Odd number: 9\n"
          ]
        }
      ]
    },
    {
      "cell_type": "markdown",
      "source": [
        "# switch statement\n"
      ],
      "metadata": {
        "id": "K-QX3rNoCy1u"
      }
    },
    {
      "cell_type": "code",
      "source": [
        "def http_error(status):\n",
        "    match status:\n",
        "        case 400:\n",
        "            return \"Bad request\"\n",
        "        case 404:\n",
        "            return \"Not found\"\n",
        "        case 418:\n",
        "            return \"I'm a teapot\"\n",
        "        case _:\n",
        "            return \"Unknown error\"\n",
        "print(http_error(404))  # Output: Not found"
      ],
      "metadata": {
        "colab": {
          "base_uri": "https://localhost:8080/"
        },
        "id": "9oUvYixsC18z",
        "outputId": "c9700efd-4be8-4a16-8f0b-b8e5b35d9c39"
      },
      "execution_count": null,
      "outputs": [
        {
          "output_type": "stream",
          "name": "stdout",
          "text": [
            "Not found\n"
          ]
        }
      ]
    },
    {
      "cell_type": "markdown",
      "source": [
        "# Point Pattern Matching: Processes coordinates of a point"
      ],
      "metadata": {
        "id": "U_2ROcZoDarb"
      }
    },
    {
      "cell_type": "code",
      "source": [
        "point = (3, 2)\n",
        "match point:\n",
        "    case (0, 0):\n",
        "        print(\"Origin\")\n",
        "    case (0, y):\n",
        "        print(f\"On Y-axis at {y}\")\n",
        "    case (x, 0):\n",
        "        print(f\"On X-axis at {x}\")\n",
        "    case (x, y):\n",
        "        print(f\"At ({x}, {y})\")"
      ],
      "metadata": {
        "colab": {
          "base_uri": "https://localhost:8080/"
        },
        "id": "qtppRK0LDcqs",
        "outputId": "c69949bd-6b53-4130-fced-817e1604cdaa"
      },
      "execution_count": null,
      "outputs": [
        {
          "output_type": "stream",
          "name": "stdout",
          "text": [
            "At (3, 2)\n"
          ]
        }
      ]
    },
    {
      "cell_type": "markdown",
      "source": [
        "# Simple Function with Return: Calculates the square of a number"
      ],
      "metadata": {
        "id": "vy1khtsfD95L"
      }
    },
    {
      "cell_type": "code",
      "source": [
        "def square(num):\n",
        "    \"\"\"Returns the square of a number.\"\"\"\n",
        "    return num * num\n",
        "print(square(4))  # Output: 16"
      ],
      "metadata": {
        "colab": {
          "base_uri": "https://localhost:8080/"
        },
        "id": "QZ3bpHhwEASU",
        "outputId": "d4ecc2b2-c416-4bb8-f0d1-5d96cd7ccde4"
      },
      "execution_count": null,
      "outputs": [
        {
          "output_type": "stream",
          "name": "stdout",
          "text": [
            "16\n"
          ]
        }
      ]
    },
    {
      "cell_type": "markdown",
      "source": [
        "# Function with Default Arguments: Greets a user with an optional custom message"
      ],
      "metadata": {
        "id": "s46_kZIkEEqE"
      }
    },
    {
      "cell_type": "code",
      "source": [
        "def greet(name, message=\"Hello\"):\n",
        "    return f\"{message}, {name}!\"\n",
        "print(greet(\"Alice\"))  # Output: Hello, Alice!\n",
        "print(greet(\"Bob\", \"Welcome\"))  # Output: Welcome, Bob!"
      ],
      "metadata": {
        "colab": {
          "base_uri": "https://localhost:8080/"
        },
        "id": "zlBwxyJEEFcb",
        "outputId": "af659a5d-2207-4ad0-9517-3d279c6c45af"
      },
      "execution_count": null,
      "outputs": [
        {
          "output_type": "stream",
          "name": "stdout",
          "text": [
            "Hello, Alice!\n",
            "Welcome, Bob!\n"
          ]
        }
      ]
    },
    {
      "cell_type": "markdown",
      "source": [
        "# Function with Variable Arguments: Computes the average of any number of values."
      ],
      "metadata": {
        "id": "R6Mv900HETI1"
      }
    },
    {
      "cell_type": "code",
      "source": [
        "def average(*args):\n",
        "    if not args:\n",
        "        return 0\n",
        "    return sum(args) / len(args)\n",
        "print(average(1, 2, 3, 4))  # Output: 2.5\n",
        "print(average())  # Output: 0"
      ],
      "metadata": {
        "colab": {
          "base_uri": "https://localhost:8080/"
        },
        "id": "de2ucTR-ET3r",
        "outputId": "96500252-20de-4863-9ba7-0b725419a927"
      },
      "execution_count": null,
      "outputs": [
        {
          "output_type": "stream",
          "name": "stdout",
          "text": [
            "2.5\n",
            "0\n"
          ]
        }
      ]
    },
    {
      "cell_type": "markdown",
      "source": [
        "# Default Argument Pitfall: Demonstrates mutable default argument behavior."
      ],
      "metadata": {
        "id": "Pu0SAgctEjwz"
      }
    },
    {
      "cell_type": "code",
      "source": [
        "def add_item(item, items=[]):\n",
        "    items.append(item)\n",
        "    return items\n",
        "print(add_item(1))  # Output: [1]\n",
        "print(add_item(2))  # Output: [1, 2] (shared list!)\n",
        "print(\"\\n\")\n",
        "\n",
        "# Correct approach\n",
        "def add_item_fixed(item, items=None):\n",
        "    if items is None:\n",
        "        items = []\n",
        "    items.append(item)\n",
        "    return items\n",
        "print(add_item_fixed(1))  # Output: [1]\n",
        "print(add_item_fixed(2))  # Output: [2]"
      ],
      "metadata": {
        "colab": {
          "base_uri": "https://localhost:8080/"
        },
        "id": "yYrOnvpMFQTC",
        "outputId": "7ecf4aef-a431-41eb-9cc2-7b535cde783a"
      },
      "execution_count": null,
      "outputs": [
        {
          "output_type": "stream",
          "name": "stdout",
          "text": [
            "[1]\n",
            "[1, 2]\n",
            "\n",
            "\n",
            "[1]\n",
            "[2]\n"
          ]
        }
      ]
    },
    {
      "cell_type": "markdown",
      "source": [
        "# Keyword-Only Arguments: Enforces keyword arguments for clarity."
      ],
      "metadata": {
        "id": "BOVqw05-FWWs"
      }
    },
    {
      "cell_type": "code",
      "source": [
        "def send_email(to, *, subject=\"No Subject\", body=\"\"):\n",
        "    return f\"Sending to {to}: Subject: {subject}, Body: {body}\"\n",
        "print(send_email(\"user@example.com\", subject=\"Hello\", body=\"Hi!\"))\n",
        "# Error: send_email(\"user@example.com\", \"Hello\")  # TypeError"
      ],
      "metadata": {
        "colab": {
          "base_uri": "https://localhost:8080/"
        },
        "id": "ZbNT2RaSFhON",
        "outputId": "d7f7adb0-ad3e-4251-d561-be2dc61a8f6a"
      },
      "execution_count": null,
      "outputs": [
        {
          "output_type": "stream",
          "name": "stdout",
          "text": [
            "Sending to user@example.com: Subject: Hello, Body: Hi!\n"
          ]
        }
      ]
    },
    {
      "cell_type": "markdown",
      "source": [
        "# Lambda Expression: Sorts a list of tuples by the second elemen"
      ],
      "metadata": {
        "id": "8jAds8w3FmJF"
      }
    },
    {
      "cell_type": "code",
      "source": [
        "\"\"\" syntax of lamba function\n",
        "(lambda arguments: expression) \"\"\"\n",
        "\n",
        "data = [(1, 3), (2, 1), (3, 2)]\n",
        "data = [(1, \"b\"), (2, \"a\"), (3, \"c\")]\n",
        "sorted_data = sorted(data, key=lambda x: x[1])\n",
        "print(sorted_data)  # Output: [(2, 'a'), (1, 'b'), (3, 'c')]"
      ],
      "metadata": {
        "colab": {
          "base_uri": "https://localhost:8080/"
        },
        "id": "eOykb7PNFpdF",
        "outputId": "5ec00487-2097-4aa8-e09c-22bd834a06d7"
      },
      "execution_count": null,
      "outputs": [
        {
          "output_type": "stream",
          "name": "stdout",
          "text": [
            "[(2, 'a'), (1, 'b'), (3, 'c')]\n"
          ]
        }
      ]
    },
    {
      "cell_type": "markdown",
      "source": [
        "# Function with Annotations: Specifies argument and return types."
      ],
      "metadata": {
        "id": "RG1T8CkzF_Wh"
      }
    },
    {
      "cell_type": "code",
      "source": [
        "def concatenate(first: str, second: str = \"world\") -> str:\n",
        "    return f\"{first} {second}\"\n",
        "print(concatenate(\"hello\"))  # Output: hello world\n",
        "print(concatenate.__annotations__)\n",
        "# Output: {'first': <class 'str'>, 'second': <class 'str'>, 'return': <class 'str'>}"
      ],
      "metadata": {
        "colab": {
          "base_uri": "https://localhost:8080/"
        },
        "id": "rFN1NW-bGAQ9",
        "outputId": "3c9874bc-01b4-4a6f-e2a5-e089f378df8d"
      },
      "execution_count": null,
      "outputs": [
        {
          "output_type": "stream",
          "name": "stdout",
          "text": [
            "hello world\n",
            "{'first': <class 'str'>, 'second': <class 'str'>, 'return': <class 'str'>}\n"
          ]
        }
      ]
    },
    {
      "cell_type": "markdown",
      "source": [
        "# More on Lists\n",
        " Example 1: Using List Methods\n",
        "Purpose: Demonstrates various list methods such as count, index, reverse, append, sort, and pop."
      ],
      "metadata": {
        "id": "HUduFWqEHVU2"
      }
    },
    {
      "cell_type": "code",
      "source": [
        "fruits = ['orange', 'apple', 'pear', 'banana', 'kiwi', 'apple', 'banana']\n",
        "print(fruits.count('apple'))  # Output: 2\n",
        "print(fruits.count('tangerine'))  # Output: 0\n",
        "print(fruits.index('banana'))  # Output: 3\n",
        "print(fruits.index('banana', 4))  # Find next banana starting at position 4, Output: 6\n",
        "fruits.reverse()\n",
        "print(fruits)  # Output: ['banana', 'apple', 'kiwi', 'banana', 'pear', 'apple', 'orange']\n",
        "fruits.append('grape')\n",
        "print(fruits)  # Output: ['banana', 'apple', 'kiwi', 'banana', 'pear', 'apple', 'orange', 'grape']\n",
        "fruits.sort()\n",
        "print(fruits)  # Output: ['apple', 'apple', 'banana', 'banana', 'grape', 'kiwi', 'orange', 'pear']\n",
        "print(fruits.pop())  # Output: 'pear'"
      ],
      "metadata": {
        "colab": {
          "base_uri": "https://localhost:8080/"
        },
        "id": "n3IGjbGEHZDp",
        "outputId": "5b46aa65-9a11-4cc6-c2a2-8e57c4a5b095"
      },
      "execution_count": null,
      "outputs": [
        {
          "output_type": "stream",
          "name": "stdout",
          "text": [
            "2\n",
            "0\n",
            "3\n",
            "6\n",
            "['banana', 'apple', 'kiwi', 'banana', 'pear', 'apple', 'orange']\n",
            "['banana', 'apple', 'kiwi', 'banana', 'pear', 'apple', 'orange', 'grape']\n",
            "['apple', 'apple', 'banana', 'banana', 'grape', 'kiwi', 'orange', 'pear']\n",
            "pear\n"
          ]
        }
      ]
    },
    {
      "cell_type": "markdown",
      "source": [
        "# Using Lists as Stacks\n",
        " Purpose: Shows a list used as a stack (LIFO) with append and pop."
      ],
      "metadata": {
        "id": "sz2ByaPnIXV-"
      }
    },
    {
      "cell_type": "code",
      "source": [
        "stack = [3, 4, 5]\n",
        "stack.append(6)\n",
        "stack.append(7)\n",
        "print(stack)  # Output: [3, 4, 5, 6, 7]\n",
        "print(stack.pop())  # Output: 7\n",
        "print(stack)  # Output: [3, 4, 5, 6]\n",
        "print(stack.pop())  # Output: 6\n",
        "print(stack.pop())  # Output: 5\n",
        "print(stack)  # Output: [3, 4]"
      ],
      "metadata": {
        "colab": {
          "base_uri": "https://localhost:8080/"
        },
        "id": "kMZcnGCKIaY3",
        "outputId": "d4e7a9df-881c-46dd-b352-aad69f00e15e"
      },
      "execution_count": null,
      "outputs": [
        {
          "output_type": "stream",
          "name": "stdout",
          "text": [
            "[3, 4, 5, 6, 7]\n",
            "7\n",
            "[3, 4, 5, 6]\n",
            "6\n",
            "5\n",
            "[3, 4]\n"
          ]
        }
      ]
    },
    {
      "cell_type": "markdown",
      "source": [
        "# Using Lists as Queues with collections.deque\n",
        "Purpose: Demonstrates collections.deque for FIFO queue operations."
      ],
      "metadata": {
        "id": "T20dPGaKIkuB"
      }
    },
    {
      "cell_type": "code",
      "source": [
        "from collections import deque\n",
        "queue = deque([\"Eric\", \"John\", \"Michael\"])\n",
        "queue.append(\"Terry\")\n",
        "print(queue) # Terry arrives\n",
        "queue.append(\"Graham\")\n",
        "print(queue) # Graham arrives\n",
        "print(queue.popleft())  # Output: 'Eric'\n",
        "print(queue)\n",
        "print(queue.popleft())  # Output: 'John'\n",
        "print(queue)  # Output: deque(['Michael', 'Terry', 'Graham'])"
      ],
      "metadata": {
        "colab": {
          "base_uri": "https://localhost:8080/"
        },
        "id": "lsRO7Ef_Img2",
        "outputId": "36e2f3ab-663a-4bd4-b56b-7c3920d1df23"
      },
      "execution_count": null,
      "outputs": [
        {
          "output_type": "stream",
          "name": "stdout",
          "text": [
            "deque(['Eric', 'John', 'Michael', 'Terry'])\n",
            "deque(['Eric', 'John', 'Michael', 'Terry', 'Graham'])\n",
            "Eric\n",
            "deque(['John', 'Michael', 'Terry', 'Graham'])\n",
            "John\n",
            "deque(['Michael', 'Terry', 'Graham'])\n"
          ]
        }
      ]
    },
    {
      "cell_type": "markdown",
      "source": [
        "# Creating a List of Squares (Traditional vs. List Comprehension)\n",
        "Purpose: Compares loop, map, and list comprehension for creating a list of squares."
      ],
      "metadata": {
        "id": "mhhkZ07dspDm"
      }
    },
    {
      "cell_type": "code",
      "source": [
        "# Traditional loop\n",
        "squares = []\n",
        "for x in range(10):\n",
        "    squares.append(x**2)\n",
        "print(squares)  # Output: [0, 1, 4, 9, 16, 25, 36, 49, 64, 81]\n",
        "\n",
        "# Using map and lambda\n",
        "squares = list(map(lambda x: x**2, range(10)))\n",
        "print(squares)  # Output: [0, 1, 4, 9, 16, 25, 36, 49, 64, 81]\n",
        "\n",
        "# Using list comprehension\n",
        "squares = [x**2 for x in range(10)]\n",
        "print(squares)  # Output: [0, 1, 4, 9, 16, 25, 36, 49, 64, 81]"
      ],
      "metadata": {
        "colab": {
          "base_uri": "https://localhost:8080/"
        },
        "id": "K16tSzaRssoU",
        "outputId": "81e54f0e-d90b-48a4-bd4c-829b604b95dd"
      },
      "execution_count": null,
      "outputs": [
        {
          "output_type": "stream",
          "name": "stdout",
          "text": [
            "[0, 1, 4, 9, 16, 25, 36, 49, 64, 81]\n",
            "[0, 1, 4, 9, 16, 25, 36, 49, 64, 81]\n",
            "[0, 1, 4, 9, 16, 25, 36, 49, 64, 81]\n"
          ]
        }
      ]
    },
    {
      "cell_type": "markdown",
      "source": [
        "# List Comprehension for Combining Elements\n",
        "Purpose: Creates a list of tuples from two lists, excluding equal elements."
      ],
      "metadata": {
        "id": "z_yk5rx6tLSu"
      }
    },
    {
      "cell_type": "code",
      "source": [
        "# List comprehension\n",
        "print([(x, y) for x in [1, 2, 3] for y in [3, 1, 4] if x != y])\n",
        "# Output: [(1, 3), (1, 4), (2, 3), (2, 1), (2, 4), (3, 1), (3, 4)]\n",
        "\n",
        "# Equivalent loop\n",
        "combs = []\n",
        "for x in [1, 2, 3]:\n",
        "    for y in [3, 1, 4]:\n",
        "        if x != y:\n",
        "            combs.append((x, y))\n",
        "print(combs)  # Output: [(1, 3), (1, 4), (2, 3), (2, 1), (2, 4), (3, 1), (3, 4)]"
      ],
      "metadata": {
        "colab": {
          "base_uri": "https://localhost:8080/"
        },
        "id": "RAfIKr53tOMV",
        "outputId": "9ba0e26f-1213-4481-901a-cb281a08f0ff"
      },
      "execution_count": null,
      "outputs": [
        {
          "output_type": "stream",
          "name": "stdout",
          "text": [
            "[(1, 3), (1, 4), (2, 3), (2, 1), (2, 4), (3, 1), (3, 4)]\n",
            "[(1, 3), (1, 4), (2, 3), (2, 1), (2, 4), (3, 1), (3, 4)]\n"
          ]
        }
      ]
    },
    {
      "cell_type": "markdown",
      "source": [
        "# Various List Comprehensions\n",
        "Purpose: Shows different applications of list comprehensions"
      ],
      "metadata": {
        "id": "428W7MZruDAg"
      }
    },
    {
      "cell_type": "code",
      "source": [
        "vec = [-4, -2, 0, 2, 4]\n",
        "# Create a new list with the values doubled\n",
        "print([x*2 for x in vec])  # Output: [-8, -4, 0, 4, 8]\n",
        "\n",
        "# Filter the list to exclude negative numbers\n",
        "print([x for x in vec if x >= 0])  # Output: [0, 2, 4]\n",
        "\n",
        "# Apply a function to all the elements\n",
        "print([abs(x) for x in vec])  # Output: [4, 2, 0, 2, 4]\n",
        "\n",
        "# Call a method on each element\n",
        "freshfruit = ['  banana', '  loganberry ', 'passion fruit  ']\n",
        "print([weapon.strip() for weapon in freshfruit])  # Output: ['banana', 'loganberry', 'passion fruit']\n",
        "\n",
        "# Create a list of 2-tuples like (number, square)\n",
        "print([(x, x**2) for x in range(6)])  # Output: [(0, 0), (1, 1), (2, 4), (3, 9), (4, 16), (5, 25)]\n",
        "\n",
        "# Flatten a list using a listcomp with two 'for'\n",
        "vec = [[1, 2, 3], [4, 5, 6], [7, 8, 9]]\n",
        "print([num for elem in vec for num in elem])  # Output: [1, 2, 3, 4, 5, 6, 7, 8, 9]"
      ],
      "metadata": {
        "colab": {
          "base_uri": "https://localhost:8080/"
        },
        "id": "SJO65hB4uGNI",
        "outputId": "b26f6401-01f2-4236-962d-707213733543"
      },
      "execution_count": null,
      "outputs": [
        {
          "output_type": "stream",
          "name": "stdout",
          "text": [
            "[-8, -4, 0, 4, 8]\n",
            "[0, 2, 4]\n",
            "[4, 2, 0, 2, 4]\n",
            "['banana', 'loganberry', 'passion fruit']\n",
            "[(0, 0), (1, 1), (2, 4), (3, 9), (4, 16), (5, 25)]\n",
            "[1, 2, 3, 4, 5, 6, 7, 8, 9]\n"
          ]
        }
      ]
    },
    {
      "cell_type": "markdown",
      "source": [
        "# List Comprehension with Complex Expressions\n",
        "Purpose: Uses a list comprehension with round and pi."
      ],
      "metadata": {
        "id": "s3ChbvJmvog5"
      }
    },
    {
      "cell_type": "code",
      "source": [
        "from math import pi\n",
        "print([str(round(pi, i)) for i in range(1, 6)])\n",
        "# Output: ['3.1', '3.14', '3.142', '3.1416', '3.14159']"
      ],
      "metadata": {
        "colab": {
          "base_uri": "https://localhost:8080/"
        },
        "id": "TB3hwOodvq7I",
        "outputId": "2d0e9b7b-15b8-40b1-9475-c950d33434a2"
      },
      "execution_count": null,
      "outputs": [
        {
          "output_type": "stream",
          "name": "stdout",
          "text": [
            "['3.1', '3.14', '3.142', '3.1416', '3.14159']\n"
          ]
        }
      ]
    },
    {
      "cell_type": "markdown",
      "source": [
        "# Nested List Comprehension for Matrix Transpose\n",
        "Purpose: Transposes a matrix using nested list comprehension, loops, and zip."
      ],
      "metadata": {
        "id": "NIKCBIt4wcy_"
      }
    },
    {
      "cell_type": "code",
      "source": [
        "# structure of list comprehesion\n",
        "# ==> [expression for variable in iterable]\n",
        "matrix = [\n",
        "    [1, 2, 3, 4],\n",
        "    [5, 6, 7, 8],\n",
        "    [9, 10, 11, 12],\n",
        "]\n",
        "\n",
        "# Nested list comprehension\n",
        "print([[row[i] for row in matrix] for i in range(4)])\n",
        "# Output: [[1, 5, 9], [2, 6, 10], [3, 7, 11], [4, 8, 12]]\n",
        "\n",
        "# Equivalent loop\n",
        "transposed = []\n",
        "for i in range(4):\n",
        "    transposed.append([row[i] for row in matrix])\n",
        "print(transposed)  # Output: [[1, 5, 9], [2, 6, 10], [3, 7, 11], [4, 8, 12]]\n",
        "\n",
        "# More explicit loop\n",
        "transposed = []\n",
        "for i in range(4):\n",
        "    transposed_row = []\n",
        "    for row in matrix:\n",
        "        transposed_row.append(row[i])\n",
        "    transposed.append(transposed_row)\n",
        "print(transposed)  # Output: [[1, 5, 9], [2, 6, 10], [3, 7, 11], [4, 8, 12]]\n",
        "\n",
        "# Using zip\n",
        "print(list(zip(*matrix)))  # Output: [(1, 5, 9), (2, 6, 10), (3, 7, 11), (4, 8, 12)]"
      ],
      "metadata": {
        "id": "HGQKQbW2wec-",
        "colab": {
          "base_uri": "https://localhost:8080/"
        },
        "outputId": "cb54d95b-19d4-4dd2-fa3a-988a13a24fe9"
      },
      "execution_count": null,
      "outputs": [
        {
          "output_type": "stream",
          "name": "stdout",
          "text": [
            "[[1, 5, 9], [2, 6, 10], [3, 7, 11], [4, 8, 12]]\n",
            "[[1, 5, 9], [2, 6, 10], [3, 7, 11], [4, 8, 12]]\n",
            "[[1, 5, 9], [2, 6, 10], [3, 7, 11], [4, 8, 12]]\n",
            "[(1, 5, 9), (2, 6, 10), (3, 7, 11), (4, 8, 12)]\n"
          ]
        }
      ]
    },
    {
      "cell_type": "markdown",
      "source": [
        "# **Tuples** and Sequences\n",
        "Example 10: Tuple Creation and Properties\n",
        "Purpose: Shows tuple creation, indexing, immutability, and nesting."
      ],
      "metadata": {
        "id": "ZjN2JtLc8GuF"
      }
    },
    {
      "cell_type": "code",
      "source": [
        "t = 12345, 54321, 'hello!'\n",
        "print(t[0])  # Output: 12345\n",
        "print(t)  # Output: (12345, 54321, 'hello!')\n",
        "# Tuples may be nested:\n",
        "u = t, (1, 2, 3, 4, 5)\n",
        "print(u)  # Output: ((12345, 54321, 'hello!'), (1, 2, 3, 4, 5))\n",
        "# Tuples are immutable:\n",
        "try:\n",
        "    t[0] = 88888\n",
        "except TypeError as e:\n",
        "    print(e)  # Output: 'tuple' object does not support item assignment\n",
        "# But they can contain mutable objects:\n",
        "v = ([1, 2, 3], [3, 2, 1])\n",
        "print(v)  # Output: ([1, 2, 3], [3, 2, 1])"
      ],
      "metadata": {
        "colab": {
          "base_uri": "https://localhost:8080/"
        },
        "id": "GGp9biH78I4X",
        "outputId": "b37531e1-2583-49ed-bbe2-4383d6f2105e"
      },
      "execution_count": null,
      "outputs": [
        {
          "output_type": "stream",
          "name": "stdout",
          "text": [
            "12345\n",
            "(12345, 54321, 'hello!')\n",
            "((12345, 54321, 'hello!'), (1, 2, 3, 4, 5))\n",
            "'tuple' object does not support item assignment\n",
            "([1, 2, 3], [3, 2, 1])\n"
          ]
        }
      ]
    },
    {
      "cell_type": "markdown",
      "source": [
        "# Set Creation and Operations\n",
        "Purpose: Shows set creation, duplicate removal, membership testing, and set operations."
      ],
      "metadata": {
        "id": "_7rcIfMJ8jXy"
      }
    },
    {
      "cell_type": "code",
      "source": [
        "basket = {'apple', 'orange', 'apple', 'pear', 'orange', 'banana'}\n",
        "print(basket)  # Output: {'orange', 'banana', 'pear', 'apple'}\n",
        "print('orange' in basket)  # Output: True\n",
        "print('crabgrass' in basket)  # Output: False\n",
        "\n",
        "# Demonstrate set operations on unique letters from two words\n",
        "a = set('abracadabra')\n",
        "b = set('alacazam')\n",
        "print(a)  # Output: {'a', 'r', 'b', 'c', 'd'}\n",
        "print(a - b)  # Output: {'r', 'd', 'b'}\n",
        "print(a | b)  # Output: {'a', 'c', 'r', 'd', 'b', 'm', 'z', 'l'}\n",
        "print(a & b)  # Output: {'a', 'c'}\n",
        "print(a ^ b)  # Output: {'r', 'd', 'b', 'm', 'z', 'l'}"
      ],
      "metadata": {
        "colab": {
          "base_uri": "https://localhost:8080/"
        },
        "id": "KaMnRKlp8nSS",
        "outputId": "a6d030f5-f8f3-4ada-8a3a-4388fac9c0c6"
      },
      "execution_count": null,
      "outputs": [
        {
          "output_type": "stream",
          "name": "stdout",
          "text": [
            "{'pear', 'orange', 'banana', 'apple'}\n",
            "True\n",
            "False\n",
            "{'r', 'c', 'a', 'd', 'b'}\n",
            "{'r', 'b', 'd'}\n",
            "{'l', 'c', 'r', 'a', 'm', 'd', 'b', 'z'}\n",
            "{'c', 'a'}\n",
            "{'l', 'b', 'r', 'z', 'm', 'd'}\n"
          ]
        }
      ]
    },
    {
      "cell_type": "markdown",
      "source": [
        "# Dictionary Operations\n",
        "Purpose: Demonstrates creating, modifying, and accessing a dictionary."
      ],
      "metadata": {
        "id": "eSNzwgve9CyB"
      }
    },
    {
      "cell_type": "code",
      "source": [
        "tel = {'jack': 4098, 'sape': 4139}\n",
        "tel['guido'] = 4127\n",
        "print(tel)  # Output: {'jack': 4098, 'sape': 4139, 'guido': 4127}\n",
        "print(tel['jack'])  # Output: 4098\n",
        "del tel['sape']\n",
        "tel['irv'] = 4127\n",
        "print(tel)  # Output: {'jack': 4098, 'guido': 4127, 'irv': 4127}\n",
        "print(list(tel))  # Output: ['jack', 'guido', 'irv']\n",
        "print(sorted(tel))  # Output: ['guido', 'irv', 'jack']\n",
        "print('guido' in tel)  # Output: True\n",
        "print('jack' not in tel)  # Output: False"
      ],
      "metadata": {
        "colab": {
          "base_uri": "https://localhost:8080/"
        },
        "id": "Qz45Nu9i9Ekw",
        "outputId": "e96c25a2-8406-4079-c9c1-058a8c192041"
      },
      "execution_count": null,
      "outputs": [
        {
          "output_type": "stream",
          "name": "stdout",
          "text": [
            "{'jack': 4098, 'sape': 4139, 'guido': 4127}\n",
            "4098\n",
            "{'jack': 4098, 'guido': 4127, 'irv': 4127}\n",
            "['jack', 'guido', 'irv']\n",
            "['guido', 'irv', 'jack']\n",
            "True\n",
            "False\n"
          ]
        }
      ]
    },
    {
      "cell_type": "markdown",
      "source": [
        "# Looping Through a Dictionary\n",
        "Purpose: Loops through dictionary key-value pairs with items()."
      ],
      "metadata": {
        "id": "Dw47ym8B9f4K"
      }
    },
    {
      "cell_type": "code",
      "source": [
        "knights = {'gallahad': 'the pure', 'robin': 'the brave'}\n",
        "for k, v in knights.items():\n",
        "    print(k, v)\n",
        "# Output:\n",
        "# gallahad the pure\n",
        "# robin the brave"
      ],
      "metadata": {
        "colab": {
          "base_uri": "https://localhost:8080/"
        },
        "id": "wvxoCu4u9ibh",
        "outputId": "1e7757a4-bfab-468e-bce4-834aa7794f5a"
      },
      "execution_count": null,
      "outputs": [
        {
          "output_type": "stream",
          "name": "stdout",
          "text": [
            "gallahad the pure\n",
            "robin the brave\n"
          ]
        }
      ]
    },
    {
      "cell_type": "markdown",
      "source": [
        "# Looping with enumerate()\n",
        "Purpose: Loops through a list with indices using enumerate()."
      ],
      "metadata": {
        "id": "8yMIKxg99wkH"
      }
    },
    {
      "cell_type": "code",
      "source": [
        "for i, v in enumerate(['tic', 'tac', 'toe']):\n",
        "    print(i, v)\n",
        "# Output:\n",
        "# 0 tic\n",
        "# 1 tac\n",
        "# 2 toe"
      ],
      "metadata": {
        "colab": {
          "base_uri": "https://localhost:8080/"
        },
        "id": "tpuDlYu79yPA",
        "outputId": "0c14c1dc-7bdd-469f-d70c-f0652d0fa94b"
      },
      "execution_count": null,
      "outputs": [
        {
          "output_type": "stream",
          "name": "stdout",
          "text": [
            "0 tic\n",
            "1 tac\n",
            "2 toe\n"
          ]
        }
      ]
    },
    {
      "cell_type": "markdown",
      "source": [
        "# Looping Over Multiple Sequences with zip()\n",
        "Purpose: Pairs elements from multiple sequences with zip()"
      ],
      "metadata": {
        "id": "_FVfiYP1-T5C"
      }
    },
    {
      "cell_type": "code",
      "source": [
        "questions = ['name', 'quest', 'favorite color']\n",
        "answers = ['lancelot', 'the holy grail', 'blue']\n",
        "for q, a in zip(questions, answers):\n",
        "    print(f'What is your {q}?  It is {a}.')\n",
        "# Output:\n",
        "# What is your name?  It is lancelot.\n",
        "# What is your quest?  It is the holy grail.\n",
        "# What is your favorite color?  It is blue."
      ],
      "metadata": {
        "colab": {
          "base_uri": "https://localhost:8080/"
        },
        "id": "Nlpjht8n-VbY",
        "outputId": "38875db2-8a98-4d60-f39f-fa85179e2a5c"
      },
      "execution_count": null,
      "outputs": [
        {
          "output_type": "stream",
          "name": "stdout",
          "text": [
            "What is your name?  It is lancelot.\n",
            "What is your quest?  It is the holy grail.\n",
            "What is your favorite color?  It is blue.\n"
          ]
        }
      ]
    },
    {
      "cell_type": "markdown",
      "source": [
        "# Looping Over Unique Elements in Sorted Order\n",
        "Purpose: Iterates over unique elements in sorted order."
      ],
      "metadata": {
        "id": "ee1gIR9v-yBo"
      }
    },
    {
      "cell_type": "code",
      "source": [
        "basket = ['apple', 'orange', 'apple', 'pear', 'orange', 'banana']\n",
        "for f in sorted(set(basket)):\n",
        "    print(f)\n",
        "# Output:\n",
        "# apple\n",
        "# banana\n",
        "# orange\n",
        "# pear"
      ],
      "metadata": {
        "colab": {
          "base_uri": "https://localhost:8080/"
        },
        "id": "_7UIaf8y-9gA",
        "outputId": "36f4a034-4c79-4f94-8e6d-a55a84364ba2"
      },
      "execution_count": null,
      "outputs": [
        {
          "output_type": "stream",
          "name": "stdout",
          "text": [
            "apple\n",
            "banana\n",
            "orange\n",
            "pear\n"
          ]
        }
      ]
    },
    {
      "cell_type": "markdown",
      "source": [
        "# Filtering a List During Iteration\n",
        "Purpose: Filters out NaN values from a list."
      ],
      "metadata": {
        "id": "xDqHu7YGAFHp"
      }
    },
    {
      "cell_type": "code",
      "source": [
        "import math\n",
        "raw_data = [56.2, float('NaN'), 51.7, 55.3, 52.5, float('NaN'), 47.8]\n",
        "filtered_data = []\n",
        "for value in raw_data:\n",
        "    if not math.isnan(value):\n",
        "        filtered_data.append(value)\n",
        "print(filtered_data)  # Output: [56.2, 51.7, 55.3, 52.5, 47.8]"
      ],
      "metadata": {
        "colab": {
          "base_uri": "https://localhost:8080/"
        },
        "id": "G4NJp9Y9AJCJ",
        "outputId": "3dd47c45-bc79-40fd-fd6c-eca813c759d7"
      },
      "execution_count": null,
      "outputs": [
        {
          "output_type": "stream",
          "name": "stdout",
          "text": [
            "[56.2, 51.7, 55.3, 52.5, 47.8]\n"
          ]
        }
      ]
    },
    {
      "cell_type": "markdown",
      "source": [
        "Overview of Python OOP Concepts\n",
        "Object-Oriented Programming in Python is a programming paradigm that uses objects and classes to organize code into reusable, modular structures. OOP focuses on encapsulating data (attributes) and behavior (methods) into objects, which are instances of classes. The key OOP concepts include:\n",
        "\n",
        "1. Classes and Instances: A class is a blueprint for\n",
        "creating objects, and an instance is a specific object created from that class.\n",
        "2. Attributes: Data stored within a class or instance.\n",
        "3. Methods: Functions defined within a class that describe the behaviors of objects.\n",
        "4. Inheritance: A mechanism to create a new class that inherits attributes and methods from an existing class.\n",
        "5. Encapsulation: Restricting access to certain attributes or methods to protect an object’s data.\n",
        "6. Polymorphism: Allowing different classes to be treated as instances of a common superclass, enabling method overriding.\n",
        "7. Abstraction: Hiding complex implementation details and exposing only necessary features."
      ],
      "metadata": {
        "id": "1mYKcKQL0LGf"
      }
    },
    {
      "cell_type": "markdown",
      "source": [
        "# Classes and Instances"
      ],
      "metadata": {
        "id": "QfdQrckpzOU7"
      }
    },
    {
      "cell_type": "code",
      "source": [
        "# Define the Employee class\n",
        "class Employee:\n",
        "    def __init__(self, first_name, last_name, salary):\n",
        "        # Instance attributes\n",
        "        self.first_name = first_name\n",
        "        self.last_name = last_name\n",
        "        self.salary = salary\n",
        "\n",
        "    # Instance method to get full name\n",
        "    def full_name(self):\n",
        "        return f\"{self.first_name} {self.last_name}\"\n",
        "\n",
        "# Create instances of the Employee class\n",
        "emp1 = Employee(\"John\", \"Doe\", 50000)\n",
        "emp2 = Employee(\"Jane\", \"Smith\", 60000)\n",
        "\n",
        "# Access attributes and call methods\n",
        "print(emp1.first_name)  # Output: John\n",
        "print(emp2.full_name())  # Output: Jane Smith\n",
        "print(emp1.salary)  # Output: 50000"
      ],
      "metadata": {
        "colab": {
          "base_uri": "https://localhost:8080/"
        },
        "id": "epbBy2G9zQ_X",
        "outputId": "53f4bec4-5621-4a0f-9fd3-7697061934aa"
      },
      "execution_count": null,
      "outputs": [
        {
          "output_type": "stream",
          "name": "stdout",
          "text": [
            "John\n",
            "Jane Smith\n",
            "50000\n"
          ]
        }
      ]
    },
    {
      "cell_type": "markdown",
      "source": [
        "# . Attributes\n",
        "Attributes are variables that belong to a class or instance. They can be:\n",
        "\n",
        "1. Instance Attributes: Unique to each instance (e.g., first_name in the example above).\n",
        "2. Class Attributes: Shared across all instances of a class."
      ],
      "metadata": {
        "id": "kQayG3xF1_By"
      }
    },
    {
      "cell_type": "code",
      "source": [
        "class Employee:\n",
        "    # Class attribute\n",
        "    raise_percentage = 1.05  # 5% raise\n",
        "\n",
        "    def __init__(self, first_name, last_name, salary):\n",
        "        self.first_name = first_name\n",
        "        self.last_name = last_name\n",
        "        self.salary = salary\n",
        "\n",
        "    def full_name(self):\n",
        "        return f\"{self.first_name} {self.last_name}\"\n",
        "\n",
        "    def apply_raise(self):\n",
        "        self.salary = int(self.salary * self.raise_percentage)\n",
        "\n",
        "# Create instances\n",
        "emp1 = Employee(\"John\", \"Doe\", 50000)\n",
        "emp2 = Employee(\"Jane\", \"Smith\", 60000)\n",
        "\n",
        "# Apply raise and print new salary\n",
        "print(emp1.salary)  # Output: 50000\n",
        "emp1.apply_raise()\n",
        "print(emp1.salary)  # Output: 52500\n",
        "\n",
        "# Access class attribute\n",
        "print(Employee.raise_percentage)  # Output: 1.05\n",
        "print(emp2.raise_percentage)  # Output: 1.05"
      ],
      "metadata": {
        "colab": {
          "base_uri": "https://localhost:8080/"
        },
        "id": "OPBnsd052TJ3",
        "outputId": "720d9748-6df0-4346-98dc-3157b34bf8db"
      },
      "execution_count": null,
      "outputs": [
        {
          "output_type": "stream",
          "name": "stdout",
          "text": [
            "50000\n",
            "52500\n",
            "1.05\n",
            "1.05\n"
          ]
        }
      ]
    },
    {
      "cell_type": "markdown",
      "source": [
        "# Methods\n",
        "1. Instance Methods: Take self as the first parameter and operate on instance data.\n",
        "2. Class Methods: Take cls as the first parameter and operate on the class itself (defined with @classmethod).\n",
        "3. Static Methods: Don’t take self or cls and behave like regular functions but belong to the class (defined with @staticmethod)."
      ],
      "metadata": {
        "id": "Po8XZ9_u3XDq"
      }
    },
    {
      "cell_type": "code",
      "source": [
        "class Employee:\n",
        "    raise_percentage = 1.05\n",
        "\n",
        "    def __init__(self, first_name, last_name, salary):\n",
        "        self.first_name = first_name\n",
        "        self.last_name = last_name\n",
        "        self.salary = salary\n",
        "\n",
        "    # Instance method\n",
        "    def full_name(self):\n",
        "        return f\"{self.first_name} {self.last_name}\"\n",
        "\n",
        "    # Class method\n",
        "    @classmethod\n",
        "    def set_raise_percentage(cls, percentage):\n",
        "        cls.raise_percentage = percentage\n",
        "\n",
        "    # Static method\n",
        "    @staticmethod\n",
        "    def is_workday(day):\n",
        "        # Monday is 0, Sunday is 6\n",
        "        return 0 <= day.weekday() <= 4\n",
        "\n",
        "# Create instance\n",
        "emp1 = Employee(\"John\", \"Doe\", 50000)\n",
        "\n",
        "# Call instance method\n",
        "print(emp1.full_name())  # Output: John Doe\n",
        "\n",
        "# Call class method\n",
        "Employee.set_raise_percentage(1.10)  # Set raise to 10%\n",
        "print(Employee.raise_percentage)  # Output: 1.10\n",
        "\n",
        "# Call static method\n",
        "from datetime import datetime\n",
        "day = datetime(2025, 5, 12)  # A Monday\n",
        "print(Employee.is_workday(day))  # Output: True"
      ],
      "metadata": {
        "id": "QhSg0NGw3tht"
      },
      "execution_count": null,
      "outputs": []
    },
    {
      "cell_type": "markdown",
      "source": [
        "# Inheritance\n",
        "Inheritance allows a class (child class) to inherit attributes and methods from another class (parent class), promoting code reuse."
      ],
      "metadata": {
        "id": "SPRwC9Q844I4"
      }
    },
    {
      "cell_type": "code",
      "source": [
        "class Employee:\n",
        "    raise_percentage = 1.05\n",
        "\n",
        "    def __init__(self, first_name, last_name, salary):\n",
        "        self.first_name = first_name\n",
        "        self.last_name = last_name\n",
        "        self.salary = salary\n",
        "\n",
        "    def full_name(self):\n",
        "        return f\"{self.first_name} {self.last_name}\"\n",
        "\n",
        "    def apply_raise(self):\n",
        "        self.salary = int(self.salary * self.raise_percentage)\n",
        "\n",
        "class Developer(Employee):\n",
        "    def __init__(self, first_name, last_name, salary, programming_language):\n",
        "        super().__init__(first_name, last_name, salary)  # Call parent’s __init__\n",
        "        self.programming_language = programming_language\n",
        "\n",
        "# Create a Developer instance\n",
        "dev1 = Developer(\"Alice\", \"Johnson\", 70000, \"Python\")\n",
        "\n",
        "# Access inherited and new attributes/methods\n",
        "print(dev1.full_name())  # Output: Alice Johnson\n",
        "print(dev1.programming_language)  # Output: Python\n",
        "dev1.apply_raise()\n",
        "print(dev1.salary)  # Output: 73500"
      ],
      "metadata": {
        "colab": {
          "base_uri": "https://localhost:8080/"
        },
        "id": "siCI2y9T48so",
        "outputId": "d98cd9ca-47d4-4571-f0bd-82cc8d7d842e"
      },
      "execution_count": null,
      "outputs": [
        {
          "output_type": "stream",
          "name": "stdout",
          "text": [
            "Alice Johnson\n",
            "Python\n",
            "73500\n"
          ]
        }
      ]
    },
    {
      "cell_type": "markdown",
      "source": [
        "# Encapsulation\n",
        "Encapsulation involves bundling data and methods into a class and controlling access to data using private attributes (indicated by a leading underscore or double underscore).\n",
        "# Explanation\n",
        "1. Private Attribute: __salary is private and cannot be accessed directly from outside the class.\n",
        "2. Getter/Setter Methods: get_salary and set_salary provide controlled access to __salary"
      ],
      "metadata": {
        "id": "GeE3WQS05pvh"
      }
    },
    {
      "cell_type": "code",
      "source": [
        "class Employee:\n",
        "    def __init__(self, first_name, last_name, salary):\n",
        "        self.first_name = first_name\n",
        "        self.last_name = last_name\n",
        "        self.__salary = salary  # Private attribute\n",
        "\n",
        "    def get_salary(self):\n",
        "        return self.__salary\n",
        "\n",
        "    def set_salary(self, salary):\n",
        "        if salary > 0:\n",
        "            self.__salary = salary\n",
        "        else:\n",
        "            print(\"Invalid salary\")\n",
        "\n",
        "# Create instance\n",
        "emp1 = Employee(\"John\", \"Doe\", 50000)\n",
        "\n",
        "# Access salary via getter\n",
        "print(emp1.get_salary())  # Output: 50000\n",
        "\n",
        "# Try to access private attribute directly (will raise AttributeError)\n",
        "# print(emp1.__salary)\n",
        "\n",
        "# Update salary via setter\n",
        "emp1.set_salary(55000)\n",
        "print(emp1.get_salary())  # Output: 55000"
      ],
      "metadata": {
        "colab": {
          "base_uri": "https://localhost:8080/"
        },
        "id": "EHJxqbqB5rLs",
        "outputId": "2e373659-2c23-4ec0-c3d1-a43e5e1877d8"
      },
      "execution_count": null,
      "outputs": [
        {
          "output_type": "stream",
          "name": "stdout",
          "text": [
            "50000\n",
            "55000\n"
          ]
        }
      ]
    },
    {
      "cell_type": "markdown",
      "source": [
        "# Polymorphism\n",
        "Polymorphism allows different classes to define methods with the same name but different implementations, enabling flexibility.\n",
        "# Explanation\n",
        "1. Method Overriding: Developer and Manager override the work method from Employee.\n",
        "2. Polymorphism: The same method name (work) produces different results based on the object type."
      ],
      "metadata": {
        "id": "4KXGYs886g5A"
      }
    },
    {
      "cell_type": "code",
      "source": [
        "class Employee:\n",
        "    def work(self):\n",
        "        return \"Doing generic work\"\n",
        "\n",
        "class Developer(Employee):\n",
        "    def work(self):\n",
        "        return \"Writing code\"\n",
        "\n",
        "class Manager(Employee):\n",
        "    def work(self):\n",
        "        return \"Managing team\"\n",
        "\n",
        "# Create instances\n",
        "dev1 = Developer()\n",
        "mgr1 = Manager()\n",
        "\n",
        "# Call work method on different objects\n",
        "print(dev1.work())  # Output: Writing code\n",
        "print(mgr1.work())  # Output: Managing team"
      ],
      "metadata": {
        "colab": {
          "base_uri": "https://localhost:8080/"
        },
        "id": "OWVc3zy46s0R",
        "outputId": "613bebf3-241a-48e8-dcb0-67cba61eff26"
      },
      "execution_count": null,
      "outputs": [
        {
          "output_type": "stream",
          "name": "stdout",
          "text": [
            "Writing code\n",
            "Managing team\n"
          ]
        }
      ]
    },
    {
      "cell_type": "markdown",
      "source": [
        "# Abstraction\n",
        "Abstraction hides complex implementation details and exposes only the necessary interface. In Python, this is often achieved using abstract base classes (ABCs) from the abc module.\n",
        "# Explanation\n",
        "1. Abstract Class: Employee is an abstract base class with an abstract method work.\n",
        "2. Concrete Class: Developer must implement work to be instantiated.\n",
        "3. Abstraction: Users interact with work without needing to know the implementation details."
      ],
      "metadata": {
        "id": "00APHTwM7aEj"
      }
    },
    {
      "cell_type": "code",
      "source": [
        "from abc import ABC, abstractmethod\n",
        "\n",
        "class Employee(ABC):\n",
        "    @abstractmethod\n",
        "    def work(self):\n",
        "        pass\n",
        "\n",
        "class Developer(Employee):\n",
        "    def work(self):\n",
        "        return \"Writing code\"\n",
        "\n",
        "# Cannot instantiate abstract class\n",
        "# emp = Employee()  # Raises TypeError\n",
        "\n",
        "# Instantiate concrete class\n",
        "dev1 = Developer()\n",
        "print(dev1.work())  # Output: Writing code"
      ],
      "metadata": {
        "colab": {
          "base_uri": "https://localhost:8080/"
        },
        "id": "GXwaSMA67k-D",
        "outputId": "12ada243-2fd7-4a57-e7e4-19c9b3d84f51"
      },
      "execution_count": null,
      "outputs": [
        {
          "output_type": "stream",
          "name": "stdout",
          "text": [
            "Writing code\n"
          ]
        }
      ]
    }
  ]
}